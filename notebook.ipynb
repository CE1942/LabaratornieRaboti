{
 "cells": [
  {
   "cell_type": "markdown",
   "id": "ba1cf3cd-48a3-416c-8ee9-31d98af453c4",
   "metadata": {},
   "source": [
    "\"Практическое задание №1\""
   ]
  },
  {
   "cell_type": "markdown",
   "id": "93cfe061-46f5-468a-b90b-2a2bd5339e18",
   "metadata": {},
   "source": [
    "**Жирный** *Курсив*"
   ]
  },
  {
   "cell_type": "markdown",
   "id": "80c73b64-9dc5-4fa5-9a44-67e869a5352a",
   "metadata": {},
   "source": [
    "1. 1\n",
    "2. 2\n",
    "3. 3"
   ]
  },
  {
   "cell_type": "markdown",
   "id": "15f13a32-03be-499c-ad5f-2f506894ccd6",
   "metadata": {},
   "source": [
    "- 1\n",
    "- 2\n",
    "- 3"
   ]
  },
  {
   "cell_type": "markdown",
   "id": "10b42886-9995-43c9-8892-0aa08a1391c9",
   "metadata": {},
   "source": [
    "![Котик](https://encrypted-tbn0.gstatic.com/images?q=tbn:ANd9GcS5o4qGBKQB52iI_Tc0GjUxle1E6xSlmNrMKw&s)"
   ]
  },
  {
   "cell_type": "code",
   "execution_count": null,
   "id": "b9573440-b25d-4a61-b82d-c736f356a854",
   "metadata": {},
   "outputs": [],
   "source": []
  },
  {
   "cell_type": "code",
   "execution_count": 2,
   "id": "b35eb8d5-c7ec-41b4-987e-3bfddb6cfd2a",
   "metadata": {},
   "outputs": [
    {
     "name": "stdin",
     "output_type": "stream",
     "text": [
      " jorje\n"
     ]
    },
    {
     "name": "stdout",
     "output_type": "stream",
     "text": [
      "Привет, jorje! Добро пожаловать в JupyterLab /Google Colab!\n"
     ]
    }
   ],
   "source": [
    "def greet_user(name: str) -> None:\n",
    "    \n",
    "    print(f\"Привет, {name}! Добро пожаловать в JupyterLab /Google Colab!\")\n",
    "\n",
    "user_name = input()\n",
    "greet_user(user_name)"
   ]
  },
  {
   "cell_type": "code",
   "execution_count": 4,
   "id": "757e28a9-c12f-4fe6-b793-d3dba244e4e0",
   "metadata": {},
   "outputs": [
    {
     "name": "stdout",
     "output_type": "stream",
     "text": [
      " Том в устройстве C не имеет метки.\n",
      " Серийный номер тома: 403F-3F4E\n",
      "\n",
      " Содержимое папки C:\\Users\\SystemX\\notebooks\n",
      "\n",
      "09.05.2025  13:57    <DIR>          .\n",
      "09.05.2025  13:57    <DIR>          ..\n",
      "09.05.2025  13:00    <DIR>          .ipynb_checkpoints\n",
      "09.05.2025  13:57             2 841 notebook.ipynb\n",
      "09.05.2025  12:19             2 219 notebook2.ipynb\n",
      "09.05.2025  12:21            10 280 notebook3.ipynb\n",
      "09.05.2025  12:56             3 617 notebook4.ipynb\n",
      "09.05.2025  13:00             2 113 notebook5.ipynb\n",
      "09.05.2025  12:21                80 script.py\n",
      "09.05.2025  12:55    <DIR>          test_folder\n",
      "08.05.2025  13:22               804 Untitled.ipynb\n",
      "               7 файлов         21 954 байт\n",
      "               4 папок  137 280 475 136 байт свободно\n"
     ]
    }
   ],
   "source": [
    "!dir"
   ]
  },
  {
   "cell_type": "code",
   "execution_count": 1,
   "id": "b3e8d043-8e91-470a-99b1-c41491f8705b",
   "metadata": {},
   "outputs": [
    {
     "name": "stdout",
     "output_type": "stream",
     "text": [
      "Первая строка\n",
      "Вторая строка\n",
      "Третья строка\n",
      "\n"
     ]
    }
   ],
   "source": [
    "with open('example.txt', 'w') as file:\n",
    "    file.write(\"Первая строка\\n\")\n",
    "    file.write(\"Вторая строка\\n\")\n",
    "    file.write(\"Третья строка\\n\")\n",
    "    \n",
    "with open('example.txt', 'r') as file:\n",
    "    content = file.read()\n",
    "    \n",
    "print(content)"
   ]
  },
  {
   "cell_type": "code",
   "execution_count": 2,
   "id": "c6adbf50-c508-4ccb-b536-85a31cc1b9e2",
   "metadata": {},
   "outputs": [
    {
     "name": "stdout",
     "output_type": "stream",
     "text": [
      "Файл существует.\n"
     ]
    }
   ],
   "source": [
    "import os\n",
    "\n",
    "if os.path.exists('example.txt'):\n",
    "    print(\"Файл существует.\")\n",
    "else:\n",
    "    print(\"Файл отсутствует.\")"
   ]
  },
  {
   "cell_type": "code",
   "execution_count": 3,
   "id": "d6c0d85b-c280-49cc-84c9-2eec97c3a42f",
   "metadata": {},
   "outputs": [
    {
     "name": "stdout",
     "output_type": "stream",
     "text": [
      "Файл успешно удалён.\n"
     ]
    }
   ],
   "source": [
    "import os\n",
    "\n",
    "try:\n",
    "    os.remove('example.txt')\n",
    "    print(\"Файл успешно удалён.\")\n",
    "except FileNotFoundError:\n",
    "    print(\"Файл не найден.\")"
   ]
  },
  {
   "cell_type": "code",
   "execution_count": 4,
   "id": "5d04bc79-d607-43de-97da-b64582f32575",
   "metadata": {},
   "outputs": [
    {
     "data": {
      "application/json": {
       "cell": {
        "!": "OSMagics",
        "HTML": "Other",
        "SVG": "Other",
        "bash": "Other",
        "capture": "ExecutionMagics",
        "cmd": "Other",
        "code_wrap": "ExecutionMagics",
        "debug": "ExecutionMagics",
        "file": "Other",
        "html": "DisplayMagics",
        "javascript": "DisplayMagics",
        "js": "DisplayMagics",
        "latex": "DisplayMagics",
        "markdown": "DisplayMagics",
        "perl": "Other",
        "prun": "ExecutionMagics",
        "pypy": "Other",
        "python": "Other",
        "python2": "Other",
        "python3": "Other",
        "ruby": "Other",
        "script": "ScriptMagics",
        "sh": "Other",
        "svg": "DisplayMagics",
        "sx": "OSMagics",
        "system": "OSMagics",
        "time": "ExecutionMagics",
        "timeit": "ExecutionMagics",
        "writefile": "OSMagics"
       },
       "line": {
        "alias": "OSMagics",
        "alias_magic": "BasicMagics",
        "autoawait": "AsyncMagics",
        "autocall": "AutoMagics",
        "automagic": "AutoMagics",
        "autosave": "KernelMagics",
        "bookmark": "OSMagics",
        "cd": "OSMagics",
        "clear": "KernelMagics",
        "cls": "KernelMagics",
        "code_wrap": "ExecutionMagics",
        "colors": "BasicMagics",
        "conda": "PackagingMagics",
        "config": "ConfigMagics",
        "connect_info": "KernelMagics",
        "copy": "Other",
        "ddir": "Other",
        "debug": "ExecutionMagics",
        "dhist": "OSMagics",
        "dirs": "OSMagics",
        "doctest_mode": "BasicMagics",
        "echo": "Other",
        "ed": "Other",
        "edit": "KernelMagics",
        "env": "OSMagics",
        "gui": "BasicMagics",
        "hist": "Other",
        "history": "HistoryMagics",
        "killbgscripts": "ScriptMagics",
        "ldir": "Other",
        "less": "KernelMagics",
        "load": "CodeMagics",
        "load_ext": "ExtensionMagics",
        "loadpy": "CodeMagics",
        "logoff": "LoggingMagics",
        "logon": "LoggingMagics",
        "logstart": "LoggingMagics",
        "logstate": "LoggingMagics",
        "logstop": "LoggingMagics",
        "ls": "Other",
        "lsmagic": "BasicMagics",
        "macro": "ExecutionMagics",
        "magic": "BasicMagics",
        "mamba": "PackagingMagics",
        "matplotlib": "PylabMagics",
        "micromamba": "PackagingMagics",
        "mkdir": "Other",
        "more": "KernelMagics",
        "notebook": "BasicMagics",
        "page": "BasicMagics",
        "pastebin": "CodeMagics",
        "pdb": "ExecutionMagics",
        "pdef": "NamespaceMagics",
        "pdoc": "NamespaceMagics",
        "pfile": "NamespaceMagics",
        "pinfo": "NamespaceMagics",
        "pinfo2": "NamespaceMagics",
        "pip": "PackagingMagics",
        "popd": "OSMagics",
        "pprint": "BasicMagics",
        "precision": "BasicMagics",
        "prun": "ExecutionMagics",
        "psearch": "NamespaceMagics",
        "psource": "NamespaceMagics",
        "pushd": "OSMagics",
        "pwd": "OSMagics",
        "pycat": "OSMagics",
        "pylab": "PylabMagics",
        "qtconsole": "KernelMagics",
        "quickref": "BasicMagics",
        "recall": "HistoryMagics",
        "rehashx": "OSMagics",
        "reload_ext": "ExtensionMagics",
        "ren": "Other",
        "rep": "Other",
        "rerun": "HistoryMagics",
        "reset": "NamespaceMagics",
        "reset_selective": "NamespaceMagics",
        "rmdir": "Other",
        "run": "ExecutionMagics",
        "save": "CodeMagics",
        "sc": "OSMagics",
        "set_env": "OSMagics",
        "store": "StoreMagics",
        "sx": "OSMagics",
        "system": "OSMagics",
        "tb": "ExecutionMagics",
        "time": "ExecutionMagics",
        "timeit": "ExecutionMagics",
        "unalias": "OSMagics",
        "unload_ext": "ExtensionMagics",
        "who": "NamespaceMagics",
        "who_ls": "NamespaceMagics",
        "whos": "NamespaceMagics",
        "xdel": "NamespaceMagics",
        "xmode": "BasicMagics"
       }
      },
      "text/plain": [
       "Available line magics:\n",
       "%alias  %alias_magic  %autoawait  %autocall  %automagic  %autosave  %bookmark  %cd  %clear  %cls  %code_wrap  %colors  %conda  %config  %connect_info  %copy  %ddir  %debug  %dhist  %dirs  %doctest_mode  %echo  %ed  %edit  %env  %gui  %hist  %history  %killbgscripts  %ldir  %less  %load  %load_ext  %loadpy  %logoff  %logon  %logstart  %logstate  %logstop  %ls  %lsmagic  %macro  %magic  %mamba  %matplotlib  %micromamba  %mkdir  %more  %notebook  %page  %pastebin  %pdb  %pdef  %pdoc  %pfile  %pinfo  %pinfo2  %pip  %popd  %pprint  %precision  %prun  %psearch  %psource  %pushd  %pwd  %pycat  %pylab  %qtconsole  %quickref  %recall  %rehashx  %reload_ext  %ren  %rep  %rerun  %reset  %reset_selective  %rmdir  %run  %save  %sc  %set_env  %store  %sx  %system  %tb  %time  %timeit  %unalias  %unload_ext  %who  %who_ls  %whos  %xdel  %xmode\n",
       "\n",
       "Available cell magics:\n",
       "%%!  %%HTML  %%SVG  %%bash  %%capture  %%cmd  %%code_wrap  %%debug  %%file  %%html  %%javascript  %%js  %%latex  %%markdown  %%perl  %%prun  %%pypy  %%python  %%python2  %%python3  %%ruby  %%script  %%sh  %%svg  %%sx  %%system  %%time  %%timeit  %%writefile\n",
       "\n",
       "Automagic is ON, % prefix IS NOT needed for line magics."
      ]
     },
     "execution_count": 4,
     "metadata": {},
     "output_type": "execute_result"
    }
   ],
   "source": [
    "%lsmagic"
   ]
  },
  {
   "cell_type": "code",
   "execution_count": 5,
   "id": "087c7f24-e90a-4bf5-b068-bc777fb9c3e6",
   "metadata": {},
   "outputs": [
    {
     "name": "stdout",
     "output_type": "stream",
     "text": [
      "CPU times: total: 0 ns\n",
      "Wall time: 1 ms\n"
     ]
    },
    {
     "data": {
      "text/plain": [
       "499500"
      ]
     },
     "execution_count": 5,
     "metadata": {},
     "output_type": "execute_result"
    }
   ],
   "source": [
    "%time sum([x for x in range(1000)])"
   ]
  },
  {
   "cell_type": "code",
   "execution_count": 6,
   "id": "3e261234-a504-43ea-9342-9d65789c591c",
   "metadata": {},
   "outputs": [
    {
     "name": "stdout",
     "output_type": "stream",
     "text": [
      "77.1 μs ± 281 ns per loop (mean ± std. dev. of 7 runs, 10,000 loops each)\n"
     ]
    }
   ],
   "source": [
    "%%timeit\n",
    "result = []\n",
    "for i in range(1000):\n",
    "    result.append(i*i)"
   ]
  },
  {
   "cell_type": "code",
   "execution_count": 7,
   "id": "08ab0e67-e892-4240-a89d-49b582fb8b44",
   "metadata": {},
   "outputs": [
    {
     "name": "stdout",
     "output_type": "stream",
     "text": [
      "Overwriting script.py\n"
     ]
    }
   ],
   "source": [
    "%%writefile script.py\n",
    "def greet(name):\n",
    "    return f\"Привет, {name}\"\n",
    "\n",
    "print(greet(\"Мир\"))"
   ]
  },
  {
   "cell_type": "code",
   "execution_count": 8,
   "id": "a5c1ecb6-2bfb-4df4-bb28-a59349763162",
   "metadata": {},
   "outputs": [
    {
     "name": "stdout",
     "output_type": "stream",
     "text": [
      "Привет, Мир\n"
     ]
    }
   ],
   "source": [
    "!python script.py"
   ]
  },
  {
   "cell_type": "code",
   "execution_count": 9,
   "id": "db66f30c-ca5b-46bc-9d9a-ba11d600e3d1",
   "metadata": {},
   "outputs": [
    {
     "name": "stdout",
     "output_type": "stream",
     "text": [
      " Том в устройстве C не имеет метки.\n",
      " Серийный номер тома: 403F-3F4E\n",
      "\n",
      " Содержимое папки C:\\Users\\SystemX\\notebooks\n",
      "\n",
      "12.05.2025  21:10    <DIR>          .\n",
      "12.05.2025  21:10    <DIR>          ..\n",
      "12.05.2025  19:56    <DIR>          .ipynb_checkpoints\n",
      "12.05.2025  12:15             5 125 data.xlsx\n",
      "12.05.2025  19:01            37 502 laba5.ipynb\n",
      "12.05.2025  21:10           248 326 laba6.ipynb\n",
      "09.05.2025  18:21           654 024 lr3.1.ipynb\n",
      "09.05.2025  17:59            28 767 lr3.2.ipynb\n",
      "09.05.2025  13:59             3 691 notebook.ipynb\n",
      "09.05.2025  12:19             2 219 notebook2.ipynb\n",
      "09.05.2025  12:21            10 280 notebook3.ipynb\n",
      "09.05.2025  12:56             3 617 notebook4.ipynb\n",
      "09.05.2025  13:00             2 113 notebook5.ipynb\n",
      "12.05.2025  21:11                80 script.py\n",
      "12.05.2025  12:15                76 table1.csv\n",
      "12.05.2025  12:15               337 table1.json\n",
      "09.05.2025  12:55    <DIR>          test_folder\n",
      "08.05.2025  13:22               804 Untitled.ipynb\n",
      "12.05.2025  19:58               628 Untitled1.ipynb\n",
      "              15 файлов        997 589 байт\n",
      "               4 папок  136 418 426 880 байт свободно\n"
     ]
    }
   ],
   "source": [
    "%ls"
   ]
  },
  {
   "cell_type": "code",
   "execution_count": 10,
   "id": "992174bf-1cbd-47ab-9118-cf5ffbe29016",
   "metadata": {},
   "outputs": [
    {
     "name": "stdout",
     "output_type": "stream",
     "text": [
      "‘вагЄвга  Ї Ї®Є\n",
      "‘ҐаЁ©­л© ­®¬Ґа в®¬ : 403F-3F4E\n",
      "C:.\n",
      "ГДДД.ipynb_checkpoints\n",
      "АДДДtest_folder\n",
      "    АДДДЌ®ў п Ї ЇЄ \n"
     ]
    }
   ],
   "source": [
    "!tree"
   ]
  },
  {
   "cell_type": "code",
   "execution_count": 11,
   "id": "43176991-a202-4c11-97a0-38c6f23355b6",
   "metadata": {},
   "outputs": [
    {
     "name": "stdout",
     "output_type": "stream",
     "text": [
      "   1:\n",
      "with open('example.txt', 'w') as file:\n",
      "    file.write(\"Первая строка\\n\")\n",
      "    file.write(\"Вторая строка\\n\")\n",
      "    file.write(\"Третья строка\\n\")\n",
      "    \n",
      "with open('example.txt', 'r') as file:\n",
      "    content = file.read()\n",
      "    \n",
      "print(content)\n",
      "   2:\n",
      "import os\n",
      "\n",
      "if os.path.exists('example.txt'):\n",
      "    print(\"Файл существует.\")\n",
      "else:\n",
      "    print(\"Файл отсутствует.\")\n",
      "   3:\n",
      "import os\n",
      "\n",
      "try:\n",
      "    os.remove('example.txt')\n",
      "    print(\"Файл успешно удалён.\")\n",
      "except FileNotFoundError:\n",
      "    print(\"Файл не найден.\")\n",
      "   4: %lsmagic\n",
      "   5: %time sum([x for x in range(1000)])\n",
      "   6:\n",
      "%%timeit\n",
      "result = []\n",
      "for i in range(1000):\n",
      "    result.append(i*i)\n",
      "   7:\n",
      "%%writefile script.py\n",
      "def greet(name):\n",
      "    return f\"Привет, {name}\"\n",
      "\n",
      "print(greet(\"Мир\"))\n",
      "   8: !python script.py\n",
      "   9: %ls\n",
      "  10: !tree\n",
      "  11: %history -n\n"
     ]
    }
   ],
   "source": [
    "%history -n"
   ]
  },
  {
   "cell_type": "code",
   "execution_count": 12,
   "id": "4654a11c-a3c7-4a75-a40e-7886911fe234",
   "metadata": {},
   "outputs": [
    {
     "name": "stdout",
     "output_type": "stream",
     "text": [
      " Том в устройстве C не имеет метки.\n",
      " Серийный номер тома: 403F-3F4E\n",
      "\n",
      " Содержимое папки C:\\Users\\SystemX\\notebooks\n",
      "\n",
      "12.05.2025  21:12    <DIR>          .\n",
      "12.05.2025  21:12    <DIR>          ..\n",
      "12.05.2025  19:56    <DIR>          .ipynb_checkpoints\n",
      "12.05.2025  12:15             5 125 data.xlsx\n",
      "12.05.2025  19:01            37 502 laba5.ipynb\n",
      "12.05.2025  21:10           248 326 laba6.ipynb\n",
      "09.05.2025  18:21           654 024 lr3.1.ipynb\n",
      "09.05.2025  17:59            28 767 lr3.2.ipynb\n",
      "09.05.2025  13:59             3 691 notebook.ipynb\n",
      "09.05.2025  12:19             2 219 notebook2.ipynb\n",
      "09.05.2025  12:21            10 280 notebook3.ipynb\n",
      "12.05.2025  21:12             3 617 notebook4.ipynb\n",
      "12.05.2025  21:12             2 113 notebook5.ipynb\n",
      "12.05.2025  21:11                80 script.py\n",
      "12.05.2025  12:15                76 table1.csv\n",
      "12.05.2025  12:15               337 table1.json\n",
      "09.05.2025  12:55    <DIR>          test_folder\n",
      "08.05.2025  13:22               804 Untitled.ipynb\n",
      "12.05.2025  19:58               628 Untitled1.ipynb\n",
      "              15 файлов        997 589 байт\n",
      "               4 папок  136 418 390 016 байт свободно\n"
     ]
    }
   ],
   "source": [
    "!dir"
   ]
  },
  {
   "cell_type": "code",
   "execution_count": 13,
   "id": "83226171-8889-4d54-805f-3d401b76d36a",
   "metadata": {},
   "outputs": [
    {
     "name": "stdout",
     "output_type": "stream",
     "text": [
      "C:\\ProgramData\\anaconda3\\python.exe\n",
      "C:\\Users\\SystemX\\AppData\\Local\\Programs\\Python\\Python313\\python.exe\n",
      "C:\\Users\\SystemX\\AppData\\Local\\Microsoft\\WindowsApps\\python.exe\n",
      "C:\\Users\\SystemX\\AppData\\Local\\Programs\\Python\\Python312\\python.exe\n"
     ]
    }
   ],
   "source": [
    "!where python"
   ]
  },
  {
   "cell_type": "code",
   "execution_count": 14,
   "id": "e1354b54-4f88-49ce-b6e3-1c639a239591",
   "metadata": {},
   "outputs": [
    {
     "name": "stderr",
     "output_type": "stream",
     "text": [
      "Подпапка или файл test_folder уже существует.\n"
     ]
    }
   ],
   "source": [
    "!mkdir test_folder"
   ]
  },
  {
   "cell_type": "code",
   "execution_count": 15,
   "id": "12e9eb02-572a-4341-8f59-edd07b302741",
   "metadata": {},
   "outputs": [
    {
     "name": "stderr",
     "output_type": "stream",
     "text": [
      "Не удается найти указанный файл.\n"
     ]
    }
   ],
   "source": [
    "!move example.txt test_folder"
   ]
  },
  {
   "cell_type": "code",
   "execution_count": 16,
   "id": "caf262c4-c594-4f28-b374-8b8b0f5293b8",
   "metadata": {},
   "outputs": [
    {
     "name": "stderr",
     "output_type": "stream",
     "text": [
      "Не удается найти C:\\Users\\SystemX\\notebooks\\test_folder\\example.txt\n"
     ]
    }
   ],
   "source": [
    "!del test_folder\\example.txt"
   ]
  },
  {
   "cell_type": "code",
   "execution_count": 17,
   "id": "b96c6e47-9f7c-4ced-b663-991816a987a4",
   "metadata": {},
   "outputs": [],
   "source": [
    "from IPython.display import clear_output\n",
    "clear_output(wait=True)"
   ]
  },
  {
   "cell_type": "code",
   "execution_count": null,
   "id": "da1e1389-7b29-4cfd-acad-806d444121d6",
   "metadata": {},
   "outputs": [],
   "source": []
  }
 ],
 "metadata": {
  "kernelspec": {
   "display_name": "Python [conda env:base] *",
   "language": "python",
   "name": "conda-base-py"
  },
  "language_info": {
   "codemirror_mode": {
    "name": "ipython",
    "version": 3
   },
   "file_extension": ".py",
   "mimetype": "text/x-python",
   "name": "python",
   "nbconvert_exporter": "python",
   "pygments_lexer": "ipython3",
   "version": "3.12.3"
  }
 },
 "nbformat": 4,
 "nbformat_minor": 5
}
