{
 "cells": [
  {
   "cell_type": "markdown",
   "id": "f3146d23-3166-4de1-93b9-5dfca18cd516",
   "metadata": {},
   "source": [
    "Задание 1"
   ]
  },
  {
   "cell_type": "code",
   "execution_count": 2,
   "id": "f180b299-204b-483e-8d26-c12768717669",
   "metadata": {},
   "outputs": [
    {
     "name": "stdout",
     "output_type": "stream",
     "text": [
      "[[ 2  4  6]\n",
      " [ 8 10  0]\n",
      " [ 0  0  0]]\n"
     ]
    }
   ],
   "source": [
    "import numpy as np\n",
    "\n",
    "arr = np.arange(1, 10).reshape((3, 3))\n",
    "\n",
    "arr *= 2\n",
    "\n",
    "arr[arr > 10] = 0\n",
    "\n",
    "print(arr)"
   ]
  },
  {
   "cell_type": "markdown",
   "id": "91c3380d-ab20-4ca6-904d-773c175f4e9f",
   "metadata": {},
   "source": [
    "Задание 2"
   ]
  },
  {
   "cell_type": "code",
   "execution_count": 3,
   "id": "f5b188e9-0ccc-42a9-8c5e-c4976f2b2983",
   "metadata": {},
   "outputs": [
    {
     "name": "stdout",
     "output_type": "stream",
     "text": [
      "Элементы, делящиеся на 5: [20 60 45]\n",
      "\n",
      "Обновленный массив:\n",
      "[16 22 39 11 56 41 -1 77 76 12 32 38 36 73 26 89  4 -1 -1 32]\n"
     ]
    }
   ],
   "source": [
    "import numpy as np\n",
    "\n",
    "array = np.random.randint(1, 101, size=20)\n",
    "\n",
    "divisible_by_5 = array % 5 == 0\n",
    "\n",
    "print(\"Элементы, делящиеся на 5:\", array[divisible_by_5])\n",
    "\n",
    "array[divisible_by_5] = -1\n",
    "\n",
    "print(\"\\nОбновленный массив:\")\n",
    "print(array)"
   ]
  },
  {
   "cell_type": "markdown",
   "id": "2796cc7c-6660-48c2-aa78-31325638a311",
   "metadata": {},
   "source": [
    "Задание 3"
   ]
  },
  {
   "cell_type": "code",
   "execution_count": 4,
   "id": "2ec1e9aa-e847-4f74-8db1-364b7efe1e9e",
   "metadata": {},
   "outputs": [
    {
     "name": "stdout",
     "output_type": "stream",
     "text": [
      "Массив 1: [[0 8 0 3 3]]\n",
      "Массив 2: [[31  0 40 30 10]]\n",
      "\n",
      "Сумма массивов: [[31  8 40 33 13]]\n",
      "Разность массивов: [[-31   8 -40 -27  -7]]\n",
      "Произведение массивов: [[ 0  0  0 90 30]]\n"
     ]
    }
   ],
   "source": [
    "import numpy as np\n",
    "\n",
    "array1 = np.random.randint(0, 51, size=(1, 5))\n",
    "array2 = np.random.randint(0, 51, size=(1, 5))\n",
    "\n",
    "print(\"Массив 1:\", array1)\n",
    "print(\"Массив 2:\", array2)\n",
    "\n",
    "sum_array = array1 + array2 \n",
    "diff_array = array1 - array2\n",
    "prod_array = array1 * array2\n",
    "\n",
    "print(\"\\nСумма массивов:\", sum_array)\n",
    "print(\"Разность массивов:\", diff_array)\n",
    "print(\"Произведение массивов:\", prod_array)"
   ]
  },
  {
   "cell_type": "markdown",
   "id": "ec0643e4-250e-4606-89dd-0467b08a5a39",
   "metadata": {},
   "source": [
    "Задание 4"
   ]
  },
  {
   "cell_type": "code",
   "execution_count": 5,
   "id": "d813df90-61db-4d09-8e77-5fec06f16695",
   "metadata": {},
   "outputs": [
    {
     "name": "stdout",
     "output_type": "stream",
     "text": [
      "Общая сумма элементов: 7.105427357601002e-15\n",
      "Сумма положительных элементов: 127.55102040816328\n",
      "Сумма отрицательных элементов: -127.55102040816327\n"
     ]
    }
   ],
   "source": [
    "import numpy as np\n",
    "\n",
    "array = np.linspace(-10, 10, num=50)\n",
    "\n",
    "total_sum = np.sum(array)                 \n",
    "positive_sum = np.sum(array[array > 0])  \n",
    "negative_sum = np.sum(array[array < 0])  \n",
    "\n",
    "print(f\"Общая сумма элементов: {total_sum}\")\n",
    "print(f\"Сумма положительных элементов: {positive_sum}\")\n",
    "print(f\"Сумма отрицательных элементов: {negative_sum}\")"
   ]
  },
  {
   "cell_type": "markdown",
   "id": "dbe019cc-584c-4988-9349-2838f6c0c4df",
   "metadata": {},
   "source": [
    "Задание 5"
   ]
  },
  {
   "cell_type": "code",
   "execution_count": 6,
   "id": "d55c9571-9169-466a-9cc9-4cf7d335a6bb",
   "metadata": {},
   "outputs": [
    {
     "name": "stdout",
     "output_type": "stream",
     "text": [
      "Единичная матрица 4x4:\n",
      " [[1. 0. 0. 0.]\n",
      " [0. 1. 0. 0.]\n",
      " [0. 0. 1. 0.]\n",
      " [0. 0. 0. 1.]]\n",
      "Сумма элементов единичной матрицы: 4.0\n",
      "\n",
      "Диагональная матрица 4x4:\n",
      " [[ 5  0  0  0]\n",
      " [ 0 10  0  0]\n",
      " [ 0  0 15  0]\n",
      " [ 0  0  0 20]]\n",
      "Сумма элементов диагональной матрицы: 50\n",
      "Сумма элементов диагональной матрицы больше.\n"
     ]
    }
   ],
   "source": [
    "import numpy as np\n",
    "\n",
    "unit_matrix = np.eye(4)\n",
    "\n",
    "diag_matrix = np.diag([5, 10, 15, 20])\n",
    "\n",
    "sum_unit = np.sum(unit_matrix)\n",
    "sum_diag = np.sum(diag_matrix)\n",
    "\n",
    "print(\"Единичная матрица 4x4:\\n\", unit_matrix)\n",
    "print(\"Сумма элементов единичной матрицы:\", sum_unit)\n",
    "\n",
    "print(\"\\nДиагональная матрица 4x4:\\n\", diag_matrix)\n",
    "print(\"Сумма элементов диагональной матрицы:\", sum_diag)\n",
    "\n",
    "if sum_unit < sum_diag:\n",
    "    print(\"Сумма элементов диагональной матрицы больше.\")\n",
    "elif sum_unit > sum_diag:\n",
    "    print(\"Сумма элементов единичной матрицы больше.\")\n",
    "else:\n",
    "    print(\"Суммы совпадают.\")"
   ]
  },
  {
   "cell_type": "markdown",
   "id": "1bb9a24b-2238-4f7e-85b4-38db9420d405",
   "metadata": {},
   "source": [
    "Задание 6"
   ]
  },
  {
   "cell_type": "code",
   "execution_count": 7,
   "id": "8d36a245-d77d-424b-bf42-97373b7eb15f",
   "metadata": {},
   "outputs": [
    {
     "name": "stdout",
     "output_type": "stream",
     "text": [
      "Матрица 1:\n",
      " [[ 8  5  9]\n",
      " [ 7  7 14]\n",
      " [ 6 10 12]]\n",
      "Матрица 2:\n",
      " [[17  2  7]\n",
      " [18 11  9]\n",
      " [18 16 14]]\n",
      "Сумма матриц:\n",
      " [[25  7 16]\n",
      " [25 18 23]\n",
      " [24 26 26]]\n",
      "Разность матриц:\n",
      " [[ -9   3   2]\n",
      " [-11  -4   5]\n",
      " [-12  -6  -2]]\n",
      "Поэлементное произведение матриц:\n",
      " [[136  10  63]\n",
      " [126  77 126]\n",
      " [108 160 168]]\n"
     ]
    }
   ],
   "source": [
    "import numpy as np\n",
    "\n",
    "matrix1 = np.random.randint(1, 21, size=(3, 3))\n",
    "matrix2 = np.random.randint(1, 21, size=(3, 3))\n",
    "\n",
    "sum_matrix = matrix1 + matrix2           \n",
    "diff_matrix = matrix1 - matrix2          \n",
    "elementwise_product = matrix1 * matrix2  \n",
    "\n",
    "print(\"Матрица 1:\\n\", matrix1)\n",
    "print(\"Матрица 2:\\n\", matrix2)\n",
    "print(\"Сумма матриц:\\n\", sum_matrix)\n",
    "print(\"Разность матриц:\\n\", diff_matrix)\n",
    "print(\"Поэлементное произведение матриц:\\n\", elementwise_product)"
   ]
  },
  {
   "cell_type": "markdown",
   "id": "b488d141-a439-404d-b515-05ee19b2c520",
   "metadata": {},
   "source": [
    "Задание 7"
   ]
  },
  {
   "cell_type": "code",
   "execution_count": 8,
   "id": "ec43217e-5972-4ea5-aa99-f95a5629aa33",
   "metadata": {},
   "outputs": [
    {
     "name": "stdout",
     "output_type": "stream",
     "text": [
      "Матрица A (2x3):\n",
      " [[1 8 1]\n",
      " [5 4 8]]\n",
      "Матрица B (3x2):\n",
      " [[7 7]\n",
      " [1 1]\n",
      " [7 1]]\n",
      "Произведение матриц AB:\n",
      " [[22 16]\n",
      " [95 47]]\n"
     ]
    }
   ],
   "source": [
    "import numpy as np\n",
    "\n",
    "matrix_a = np.random.randint(1, 11, size=(2, 3))\n",
    "matrix_b = np.random.randint(1, 11, size=(3, 2))\n",
    "\n",
    "product_matrix = matrix_a @ matrix_b \n",
    "\n",
    "print(\"Матрица A (2x3):\\n\", matrix_a)\n",
    "print(\"Матрица B (3x2):\\n\", matrix_b)\n",
    "print(\"Произведение матриц AB:\\n\", product_matrix)"
   ]
  },
  {
   "cell_type": "markdown",
   "id": "672c168f-811c-4bd8-8c79-408decc56e25",
   "metadata": {},
   "source": [
    "Задание 8"
   ]
  },
  {
   "cell_type": "code",
   "execution_count": 9,
   "id": "74094b77-f441-4c5a-9b79-e3bb4b18b153",
   "metadata": {},
   "outputs": [
    {
     "name": "stdout",
     "output_type": "stream",
     "text": [
      "Исходная матрица:\n",
      " [[11  1 13]\n",
      " [ 7  4 14]\n",
      " [ 7 14  4]]\n",
      "Определитель матрицы: -999.9999999999998\n",
      "Обратная матрица:\n",
      " [[ 0.18  -0.178  0.038]\n",
      " [-0.07   0.047  0.063]\n",
      " [-0.07   0.147 -0.037]]\n"
     ]
    }
   ],
   "source": [
    "import numpy as np\n",
    "\n",
    "random_matrix = np.random.randint(1, 21, size=(3, 3))\n",
    "\n",
    "determinant = np.linalg.det(random_matrix)\n",
    "inverse_matrix = None\n",
    "if determinant != 0:\n",
    "    inverse_matrix = np.linalg.inv(random_matrix)\n",
    "else:\n",
    "    print(\"Матрица вырожденная (определитель равен 0)\")\n",
    "\n",
    "print(\"Исходная матрица:\\n\", random_matrix)\n",
    "print(\"Определитель матрицы:\", determinant)\n",
    "if inverse_matrix is not None:\n",
    "    print(\"Обратная матрица:\\n\", inverse_matrix)"
   ]
  },
  {
   "cell_type": "markdown",
   "id": "18412d6e-313b-4c5b-b34c-e71ac060ee78",
   "metadata": {},
   "source": [
    "Задание 9"
   ]
  },
  {
   "cell_type": "code",
   "execution_count": 10,
   "id": "d986dbae-1125-4266-bc11-24130065f429",
   "metadata": {},
   "outputs": [
    {
     "name": "stdout",
     "output_type": "stream",
     "text": [
      "Исходная матрица:\n",
      " [[30 44 34 34]\n",
      " [35  6 15 20]\n",
      " [22 35 34 11]\n",
      " [ 3 25 34 29]]\n",
      "\n",
      "Транспонированная матрица:\n",
      " [[30 35 22  3]\n",
      " [44  6 35 25]\n",
      " [34 15 34 34]\n",
      " [34 20 11 29]]\n",
      "\n",
      "След матрицы (сумма элементов главной диагонали): 99\n"
     ]
    }
   ],
   "source": [
    "import numpy as np\n",
    "\n",
    "matrix = np.random.randint(1, 51, size=(4, 4))\n",
    "\n",
    "print(\"Исходная матрица:\\n\", matrix)\n",
    "\n",
    "transposed_matrix = matrix.T \n",
    "\n",
    "print(\"\\nТранспонированная матрица:\\n\", transposed_matrix)\n",
    "\n",
    "trace_value = np.trace(matrix)\n",
    "\n",
    "print(\"\\nСлед матрицы (сумма элементов главной диагонали):\", trace_value)"
   ]
  },
  {
   "cell_type": "markdown",
   "id": "3c63d8ef-0d86-4d2b-9563-c93a2ffac36d",
   "metadata": {},
   "source": [
    "Задание 10"
   ]
  },
  {
   "cell_type": "code",
   "execution_count": 11,
   "id": "b3b558c2-f09e-40f8-b4ad-7a32d65d09f1",
   "metadata": {},
   "outputs": [
    {
     "name": "stdout",
     "output_type": "stream",
     "text": [
      "Решение системы уравнений:\n",
      "[1.63963964 0.57657658 0.00900901]\n"
     ]
    }
   ],
   "source": [
    "import numpy as np\n",
    "\n",
    "A = np.array([[2, 3, -1],\n",
    "              [4, -1, 2],\n",
    "              [-3, 5, 4]])\n",
    "\n",
    "B = np.array([5, 6, -2])\n",
    "\n",
    "solution = np.linalg.solve(A, B)\n",
    "\n",
    "print(\"Решение системы уравнений:\")\n",
    "print(solution)"
   ]
  },
  {
   "cell_type": "markdown",
   "id": "2cec2ddb-b480-4f36-8e0d-9e7ebd285883",
   "metadata": {},
   "source": [
    "Индивидуальное задание \n",
    "Вариант 3"
   ]
  },
  {
   "cell_type": "code",
   "execution_count": 12,
   "id": "d5f67a6a-59e1-442d-b88f-fa1e13be8bbf",
   "metadata": {},
   "outputs": [
    {
     "name": "stdout",
     "output_type": "stream",
     "text": [
      "Решение методом Крамера: 128.5714285714286 178.57142857142853 192.85714285714295\n",
      "Решение методом обратной матрицы: [128.57142857 178.57142857 192.85714286]\n",
      "Решение с помощью np.linalg.solve: [128.57142857 178.57142857 192.85714286]\n"
     ]
    }
   ],
   "source": [
    "import numpy as np\n",
    "\n",
    "A = np.array([\n",
    "    [1, 1, 1],\n",
    "    [-1, 1, 0],\n",
    "    [-1.5, 0, 1]\n",
    "])\n",
    "\n",
    "B = np.array([500, 50, 0])\n",
    "\n",
    "det_A = np.linalg.det(A)\n",
    "A_x = A.copy(); A_x[:, 0] = B\n",
    "A_y = A.copy(); A_y[:, 1] = B\n",
    "A_z = A.copy(); A_z[:, 2] = B\n",
    "x_cramer = np.linalg.det(A_x) / det_A\n",
    "y_cramer = np.linalg.det(A_y) / det_A\n",
    "z_cramer = np.linalg.det(A_z) / det_A\n",
    "\n",
    "inv_A = np.linalg.inv(A)\n",
    "solution_inv = inv_A @ B\n",
    "\n",
    "solution_numpy = np.linalg.solve(A, B)\n",
    "\n",
    "print(\"Решение методом Крамера:\", x_cramer, y_cramer, z_cramer)\n",
    "print(\"Решение методом обратной матрицы:\", solution_inv)\n",
    "print(\"Решение с помощью np.linalg.solve:\", solution_numpy)"
   ]
  },
  {
   "cell_type": "code",
   "execution_count": null,
   "id": "b0544dd8-ed05-4c30-bdb9-2e0b7941f497",
   "metadata": {},
   "outputs": [],
   "source": []
  }
 ],
 "metadata": {
  "kernelspec": {
   "display_name": "Python [conda env:base] *",
   "language": "python",
   "name": "conda-base-py"
  },
  "language_info": {
   "codemirror_mode": {
    "name": "ipython",
    "version": 3
   },
   "file_extension": ".py",
   "mimetype": "text/x-python",
   "name": "python",
   "nbconvert_exporter": "python",
   "pygments_lexer": "ipython3",
   "version": "3.12.3"
  }
 },
 "nbformat": 4,
 "nbformat_minor": 5
}
