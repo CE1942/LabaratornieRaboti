{
  "cells": [
    {
      "cell_type": "code",
      "execution_count": null,
      "id": "1773a2f6-f12d-459a-9df7-835f20788d45",
      "metadata": {
        "colab": {
          "base_uri": "https://localhost:8080/"
        },
        "id": "1773a2f6-f12d-459a-9df7-835f20788d45",
        "outputId": "ffa09dc3-7276-4872-d31b-34b3c8d26a15"
      },
      "outputs": [
        {
          "output_type": "stream",
          "name": "stdout",
          "text": [
            "Mounted at /content/drive\n"
          ]
        }
      ],
      "source": [
        "from google.colab import drive\n",
        "drive.mount('/content/drive')"
      ]
    },
    {
      "cell_type": "code",
      "execution_count": null,
      "id": "dfe72ab4-3b20-4d07-9048-12ded424a427",
      "metadata": {
        "colab": {
          "base_uri": "https://localhost:8080/"
        },
        "id": "dfe72ab4-3b20-4d07-9048-12ded424a427",
        "outputId": "03623e88-2edb-4f2c-c09e-970e651b4e57"
      },
      "outputs": [
        {
          "output_type": "stream",
          "name": "stdout",
          "text": [
            "2_5415604764098454171.pdf  Ivanov_otdelenie.sql  Без\\ названия\n",
            "Colab\\ Notebooks\t   micropensil228.rar\t Оптимизация\\ кала.rar\n",
            "forum\t\t\t   Oberon\\ v.0.9\n"
          ]
        }
      ],
      "source": [
        "!dir /content/drive/MyDrive"
      ]
    },
    {
      "cell_type": "code",
      "source": [
        "# Переходим в корневую папку Google Drive\n",
        "%cd \"/content/drive/MyDrive/\"\n",
        "\n",
        "# Открываем файл в режиме записи и пишем в него строки\n",
        "with open('my_text_file.txt', 'w') as file:\n",
        "    file.write(\"Первая строка.\\n\")\n",
        "    file.write(\"Вторая строка.\\n\")\n",
        "    file.write(\"Третья строка.\\n\")"
      ],
      "metadata": {
        "colab": {
          "base_uri": "https://localhost:8080/"
        },
        "id": "RLgB6f69gKj7",
        "outputId": "2d39fcfa-ae7d-4e81-c032-41eb97cd376d"
      },
      "id": "RLgB6f69gKj7",
      "execution_count": null,
      "outputs": [
        {
          "output_type": "stream",
          "name": "stdout",
          "text": [
            "/content/drive/MyDrive\n"
          ]
        }
      ]
    },
    {
      "cell_type": "code",
      "execution_count": null,
      "id": "ef1cad85-3a86-4f52-979b-de7e5ff099dc",
      "metadata": {
        "colab": {
          "base_uri": "https://localhost:8080/"
        },
        "id": "ef1cad85-3a86-4f52-979b-de7e5ff099dc",
        "outputId": "23fba38b-b1af-4190-b6b0-56e6c5860594"
      },
      "outputs": [
        {
          "output_type": "stream",
          "name": "stdout",
          "text": [
            "2_5415604764098454171.pdf  Ivanov_otdelenie.sql  Oberon\\ v.0.9\n",
            "Colab\\ Notebooks\t   micropensil228.rar\t Без\\ названия\n",
            "forum\t\t\t   my_text_file.txt\t Оптимизация\\ кала.rar\n"
          ]
        }
      ],
      "source": [
        "!dir"
      ]
    },
    {
      "cell_type": "code",
      "source": [
        "from google.colab import drive\n",
        "drive.mount('/content/drive')\n",
        "\n",
        "# Изменяем рабочую директорию на папку MyDrive\n",
        "%cd \"/content/drive/MyDrive/\"\n",
        "\n",
        "# Читаем содержимое файла\n",
        "with open('my_text_file.txt', 'r') as file:\n",
        "    content = file.read()\n",
        "\n",
        "# Выводим содержимое файла\n",
        "print(content)"
      ],
      "metadata": {
        "colab": {
          "base_uri": "https://localhost:8080/"
        },
        "id": "f3Y1bbbvgR4s",
        "outputId": "e54ea588-2ec9-45fe-c380-a5b609a74ba1"
      },
      "id": "f3Y1bbbvgR4s",
      "execution_count": null,
      "outputs": [
        {
          "output_type": "stream",
          "name": "stdout",
          "text": [
            "Drive already mounted at /content/drive; to attempt to forcibly remount, call drive.mount(\"/content/drive\", force_remount=True).\n",
            "/content/drive/MyDrive\n",
            "Первая строка.\n",
            "Вторая строка.\n",
            "Третья строка.\n",
            "\n"
          ]
        }
      ]
    },
    {
      "cell_type": "code",
      "source": [
        "from google.colab import drive\n",
        "drive.mount('/content/drive', force_remount=True)\n",
        "\n",
        "# Устанавливаем рабочую директорию на MyDrive\n",
        "%cd \"/content/drive/MyDrive/\"\n",
        "\n",
        "# Импортируем pandas для удобного чтения csv\n",
        "import pandas as pd\n",
        "\n",
        "# Читаем CSV-файл с указанием кодировки windows-1251\n",
        "df = pd.read_csv('students.csv', encoding='windows-1251')\n",
        "\n",
        "# Выводим таблицу\n",
        "print(df)\n"
      ],
      "metadata": {
        "colab": {
          "base_uri": "https://localhost:8080/"
        },
        "id": "r_OXQk6rgh4k",
        "outputId": "59667a54-35e7-42b4-dc08-3f5cd801299e"
      },
      "id": "r_OXQk6rgh4k",
      "execution_count": null,
      "outputs": [
        {
          "output_type": "stream",
          "name": "stdout",
          "text": [
            "Mounted at /content/drive\n",
            "/content/drive/MyDrive\n",
            "             Имя  Возраст  Группа\n",
            "0   Иванов И.И.        20       1\n",
            "1   Петров П.П.        19       2\n",
            "2  Сидоров С.С.        21       1\n"
          ]
        }
      ]
    }
  ],
  "metadata": {
    "kernelspec": {
      "display_name": "Python [conda env:base] *",
      "language": "python",
      "name": "conda-base-py"
    },
    "language_info": {
      "codemirror_mode": {
        "name": "ipython",
        "version": 3
      },
      "file_extension": ".py",
      "mimetype": "text/x-python",
      "name": "python",
      "nbconvert_exporter": "python",
      "pygments_lexer": "ipython3",
      "version": "3.12.7"
    },
    "colab": {
      "provenance": []
    }
  },
  "nbformat": 4,
  "nbformat_minor": 5
}