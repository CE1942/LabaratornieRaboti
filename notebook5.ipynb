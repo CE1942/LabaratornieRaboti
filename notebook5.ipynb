{
 "cells": [
  {
   "cell_type": "markdown",
   "id": "04d1e7ce-4593-4717-b556-2e82464bd20a",
   "metadata": {},
   "source": [
    "1. Создание DataFrame разными способами"
   ]
  },
  {
   "cell_type": "markdown",
   "id": "d0f1e713-de03-410b-a845-69c8d96ab11d",
   "metadata": {},
   "source": [
    "1. Создание DataFrame из словаря списков"
   ]
  },
  {
   "cell_type": "code",
   "execution_count": 2,
   "id": "eb27173c-2f9f-48b7-a330-dd6562395174",
   "metadata": {},
   "outputs": [
    {
     "name": "stdout",
     "output_type": "stream",
     "text": [
      "DataFrame из словаря списков:\n",
      "       Имя  Возраст      Отдел\n",
      "0     Иван       30         IT\n",
      "1   Марина       28         HR\n",
      "2  Алексей       35      Sales\n",
      "3    Ольга       40  Marketing\n",
      "4   Сергей       32    Finance\n"
     ]
    }
   ],
   "source": [
    "import pandas as pd\n",
    "import numpy as np\n",
    "\n",
    "# Данные о сотрудниках\n",
    "data_dict = {\n",
    "    'Имя': ['Иван', 'Марина', 'Алексей', 'Ольга', 'Сергей'],\n",
    "    'Возраст': [30, 28, 35, 40, 32],\n",
    "    'Отдел': ['IT', 'HR', 'Sales', 'Marketing', 'Finance']\n",
    "}\n",
    "\n",
    "df_from_dict = pd.DataFrame(data_dict)\n",
    "print(\"DataFrame из словаря списков:\")\n",
    "print(df_from_dict)"
   ]
  },
  {
   "cell_type": "markdown",
   "id": "bac14715-7665-4c59-9f0d-865f7338d001",
   "metadata": {},
   "source": [
    "2. Создание DataFrame из списка словарей"
   ]
  },
  {
   "cell_type": "code",
   "execution_count": 3,
   "id": "2c4f18be-da34-4655-b4ab-21468aff3922",
   "metadata": {},
   "outputs": [
    {
     "name": "stdout",
     "output_type": "stream",
     "text": [
      "\n",
      "DataFrame из списка словарей:\n",
      "       Имя  Возраст      Отдел\n",
      "0     Иван       30         IT\n",
      "1   Марина       28         HR\n",
      "2  Алексей       35      Sales\n",
      "3    Ольга       40  Marketing\n",
      "4   Сергей       32    Finance\n"
     ]
    }
   ],
   "source": [
    "list_of_dicts = [\n",
    "    {'Имя': 'Иван', 'Возраст': 30, 'Отдел': 'IT'},\n",
    "    {'Имя': 'Марина', 'Возраст': 28, 'Отдел': 'HR'},\n",
    "    {'Имя': 'Алексей', 'Возраст': 35, 'Отдел': 'Sales'},\n",
    "    {'Имя': 'Ольга', 'Возраст': 40, 'Отдел': 'Marketing'},\n",
    "    {'Имя': 'Сергей', 'Возраст': 32, 'Отдел': 'Finance'}\n",
    "]\n",
    "\n",
    "df_from_list = pd.DataFrame(list_of_dicts)\n",
    "print(\"\\nDataFrame из списка словарей:\")\n",
    "print(df_from_list)"
   ]
  },
  {
   "cell_type": "markdown",
   "id": "0f716081-088e-4e06-aeec-5470a907794b",
   "metadata": {},
   "source": [
    "3. Создание DataFrame из массива NumPy"
   ]
  },
  {
   "cell_type": "code",
   "execution_count": 4,
   "id": "163a3e8b-9845-4c57-bc2b-732fc442f750",
   "metadata": {},
   "outputs": [
    {
     "name": "stdout",
     "output_type": "stream",
     "text": [
      "\n",
      "DataFrame из массива NumPy:\n",
      "       Имя  Возраст      Отдел\n",
      "0     Иван       58         IT\n",
      "1   Марина       48         HR\n",
      "2  Алексей       34      Sales\n",
      "3    Ольга       27  Marketing\n",
      "4   Сергей       40    Finance\n"
     ]
    }
   ],
   "source": [
    "np.random.seed(42) # Зафиксируем seed для воспроизводимости результата\n",
    "random_ages = np.random.randint(low=20, high=61, size=(5,))\n",
    "names = data_dict['Имя'][:len(random_ages)]\n",
    "departments = data_dict['Отдел'][:len(random_ages)]\n",
    "\n",
    "numpy_df_data = {\n",
    "    'Имя': names,\n",
    "    'Возраст': random_ages,\n",
    "    'Отдел': departments\n",
    "}\n",
    "\n",
    "df_from_numpy = pd.DataFrame(numpy_df_data)\n",
    "print(\"\\nDataFrame из массива NumPy:\")\n",
    "print(df_from_numpy)"
   ]
  },
  {
   "cell_type": "markdown",
   "id": "3be50476-250f-4377-aa3c-41ee2b697182",
   "metadata": {},
   "source": [
    "4. Проверка типов данных во всех DataFrames"
   ]
  },
  {
   "cell_type": "code",
   "execution_count": 5,
   "id": "83adc079-41a9-4ef8-8f36-49abafb39b15",
   "metadata": {},
   "outputs": [
    {
     "name": "stdout",
     "output_type": "stream",
     "text": [
      "\n",
      "Типы данных в df_from_dict:\n",
      "<class 'pandas.core.frame.DataFrame'>\n",
      "RangeIndex: 5 entries, 0 to 4\n",
      "Data columns (total 3 columns):\n",
      " #   Column   Non-Null Count  Dtype \n",
      "---  ------   --------------  ----- \n",
      " 0   Имя      5 non-null      object\n",
      " 1   Возраст  5 non-null      int64 \n",
      " 2   Отдел    5 non-null      object\n",
      "dtypes: int64(1), object(2)\n",
      "memory usage: 252.0+ bytes\n",
      "None\n",
      "\n",
      "Типы данных в df_from_list:\n",
      "<class 'pandas.core.frame.DataFrame'>\n",
      "RangeIndex: 5 entries, 0 to 4\n",
      "Data columns (total 3 columns):\n",
      " #   Column   Non-Null Count  Dtype \n",
      "---  ------   --------------  ----- \n",
      " 0   Имя      5 non-null      object\n",
      " 1   Возраст  5 non-null      int64 \n",
      " 2   Отдел    5 non-null      object\n",
      "dtypes: int64(1), object(2)\n",
      "memory usage: 252.0+ bytes\n",
      "None\n",
      "\n",
      "Типы данных в df_from_numpy:\n",
      "<class 'pandas.core.frame.DataFrame'>\n",
      "RangeIndex: 5 entries, 0 to 4\n",
      "Data columns (total 3 columns):\n",
      " #   Column   Non-Null Count  Dtype \n",
      "---  ------   --------------  ----- \n",
      " 0   Имя      5 non-null      object\n",
      " 1   Возраст  5 non-null      int32 \n",
      " 2   Отдел    5 non-null      object\n",
      "dtypes: int32(1), object(2)\n",
      "memory usage: 232.0+ bytes\n",
      "None\n"
     ]
    }
   ],
   "source": [
    "print(\"\\nТипы данных в df_from_dict:\")\n",
    "print(df_from_dict.info())\n",
    "\n",
    "print(\"\\nТипы данных в df_from_list:\")\n",
    "print(df_from_list.info())\n",
    "\n",
    "print(\"\\nТипы данных в df_from_numpy:\")\n",
    "print(df_from_numpy.info())"
   ]
  },
  {
   "cell_type": "markdown",
   "id": "85fb1aa1-657c-4be6-804a-cd230b7e7e2a",
   "metadata": {},
   "source": [
    "2. Чтение данных из файлов ( CSV , Excel , JSON )"
   ]
  },
  {
   "cell_type": "code",
   "execution_count": 6,
   "id": "8e79b42e-d184-412e-988f-dd85745d096b",
   "metadata": {},
   "outputs": [
    {
     "name": "stdout",
     "output_type": "stream",
     "text": [
      "Первые 5 строк таблицы 1 (CSV):\n",
      "       Имя  Возраст\n",
      "0   Иванов       30\n",
      "1   Петров       35\n",
      "2  Сидоров       40\n",
      "\n",
      "Первые 5 строк таблицы 2 (Excel):\n",
      "              Клиент        Город\n",
      "0  ООО Рога и Копыта       Москва\n",
      "1         ИП Семенов    Петербург\n",
      "2       ЗАО Технолог  Новосибирск\n",
      "\n",
      "Первые 5 строк таблицы 1 (JSON):\n",
      "       Имя  Возраст\n",
      "0   Иванов       30\n",
      "1   Петров       35\n",
      "2  Сидоров       40\n"
     ]
    }
   ],
   "source": [
    "import pandas as pd\n",
    "\n",
    "# Таблица 1\n",
    "data_table1 = {\n",
    "    'Имя': ['Иванов', 'Петров', 'Сидоров'],\n",
    "    'Возраст': [30, 35, 40]\n",
    "}\n",
    "\n",
    "# Таблица 2\n",
    "data_table2 = {\n",
    "    'Клиент': ['ООО Рога и Копыта', 'ИП Семенов', 'ЗАО Технолог'],\n",
    "    'Город': ['Москва', 'Петербург', 'Новосибирск']\n",
    "}\n",
    "\n",
    "# Преобразуем в DataFrame\n",
    "df_table1 = pd.DataFrame(data_table1)\n",
    "df_table2 = pd.DataFrame(data_table2)\n",
    "\n",
    "# Шаг 1: Сохранение и чтение CSV\n",
    "df_table1.to_csv('table1.csv', index=False)\n",
    "loaded_df_table1 = pd.read_csv('table1.csv')\n",
    "\n",
    "# Шаг 2: Сохранение и чтение Excel\n",
    "with pd.ExcelWriter('data.xlsx') as writer:\n",
    "    df_table2.to_excel(writer, sheet_name='Клиенты', index=False)\n",
    "loaded_df_table2 = pd.read_excel('data.xlsx', sheet_name='Клиенты')\n",
    "\n",
    "# Шаг 3: Сохранение и чтение JSON\n",
    "df_table1.to_json('table1.json', orient='records')\n",
    "loaded_df_table1_json = pd.read_json('table1.json')\n",
    "\n",
    "# Вывести первые строки каждой таблицы\n",
    "print(\"Первые 5 строк таблицы 1 (CSV):\")\n",
    "print(loaded_df_table1.head())\n",
    "\n",
    "print(\"\\nПервые 5 строк таблицы 2 (Excel):\")\n",
    "print(loaded_df_table2.head())\n",
    "\n",
    "print(\"\\nПервые 5 строк таблицы 1 (JSON):\")\n",
    "print(loaded_df_table1_json.head())"
   ]
  },
  {
   "cell_type": "markdown",
   "id": "7c8f49df-4411-4ae4-98ee-84774a93a643",
   "metadata": {},
   "source": [
    "3. Доступ к данным ( .loc , .iloc , .at , .iat )"
   ]
  },
  {
   "cell_type": "code",
   "execution_count": 8,
   "id": "ee99ac7b-c0b6-4fd4-9d75-99edd8d08690",
   "metadata": {},
   "outputs": [
    {
     "name": "stdout",
     "output_type": "stream",
     "text": [
      "   ID  Имена  Возраст    Отдел  Зарплата\n",
      "4   5  Мария       28  Finance     52000\n",
      "40\n",
      "Finance\n",
      "Finance\n",
      "55000\n"
     ]
    }
   ],
   "source": [
    "import pandas as pd\n",
    "\n",
    "# Пример таблицы\n",
    "data = {\n",
    "    'ID': [1, 2, 3, 4, 5],\n",
    "    'Имена': ['Иван', 'Петр', 'Павел', 'Анна', 'Мария'],\n",
    "    'Возраст': [30, 35, 40, 32, 28],\n",
    "    'Отдел': ['IT', 'HR', 'Sales', 'Marketing', 'Finance'],\n",
    "    'Зарплата': [50000, 45000, 60000, 55000, 52000]\n",
    "}\n",
    "\n",
    "# Преобразуем словарь в DataFrame\n",
    "df = pd.DataFrame(data)"
   ]
  },
  {
   "cell_type": "markdown",
   "id": "c90ceb28-af10-4e98-85d5-c687c2dcade2",
   "metadata": {},
   "source": [
    "Получите информацию о сотруднике с ID = 5 с помощью .loc[]"
   ]
  },
  {
   "cell_type": "code",
   "execution_count": 13,
   "id": "f8e06531-dde2-44b0-9c0a-d156683562b8",
   "metadata": {},
   "outputs": [
    {
     "name": "stdout",
     "output_type": "stream",
     "text": [
      "   ID  Имена  Возраст    Отдел  Зарплата\n",
      "4   5  Мария       28  Finance     52000\n"
     ]
    }
   ],
   "source": [
    "employee_id_5 = df.loc[df['ID'] == 5]\n",
    "print(employee_id_5)"
   ]
  },
  {
   "cell_type": "markdown",
   "id": "1e052a07-446d-4313-900f-745b57af6fb3",
   "metadata": {},
   "source": [
    "Выведите возраст третьего сотрудника в таблице с .iloc[]"
   ]
  },
  {
   "cell_type": "code",
   "execution_count": 12,
   "id": "ea2d873a-74df-4dcd-9c34-57019cf90b0d",
   "metadata": {},
   "outputs": [
    {
     "name": "stdout",
     "output_type": "stream",
     "text": [
      "40\n"
     ]
    }
   ],
   "source": [
    "third_employee_age = df.iloc[2]['Возраст']\n",
    "print(third_employee_age)"
   ]
  },
  {
   "cell_type": "markdown",
   "id": "83e242bb-8a55-4f81-8a39-a130249fd03e",
   "metadata": {},
   "source": [
    "Выведите название отдела для сотрудника \"Мария\" с .at[]"
   ]
  },
  {
   "cell_type": "code",
   "execution_count": 11,
   "id": "29db4a53-e217-458e-9395-7412454b14c1",
   "metadata": {},
   "outputs": [
    {
     "name": "stdout",
     "output_type": "stream",
     "text": [
      "Finance\n"
     ]
    }
   ],
   "source": [
    "department_maria = df.at[df.index[df['Имена'] == 'Мария'][0], 'Отдел']\n",
    "print(department_maria)"
   ]
  },
  {
   "cell_type": "code",
   "execution_count": null,
   "id": "9a925fbd-ce15-4fde-870b-840da106275f",
   "metadata": {},
   "outputs": [],
   "source": [
    "Выведите зарплату сотрудника, находящегося в четвертой строке и пятом столбце, используя .iat[]"
   ]
  },
  {
   "cell_type": "code",
   "execution_count": 9,
   "id": "6cca5c14-e46b-40f6-b6fa-fee505aa9d51",
   "metadata": {},
   "outputs": [
    {
     "name": "stdout",
     "output_type": "stream",
     "text": [
      "55000\n"
     ]
    }
   ],
   "source": [
    "salary_fourth_row_fifth_column = df.iat[3, 4]\n",
    "print(salary_fourth_row_fifth_column)"
   ]
  },
  {
   "cell_type": "markdown",
   "id": "4415f8de-e9ee-4dce-b026-cb9efdf169f0",
   "metadata": {},
   "source": [
    "4. Добавление новых столбцов и строк"
   ]
  },
  {
   "cell_type": "code",
   "execution_count": 17,
   "id": "060db87b-d6d4-444b-bb08-7ad9f651dc9e",
   "metadata": {},
   "outputs": [],
   "source": [
    "import pandas as pd\n",
    "\n",
    "# Таблица 1 (пример структуры)\n",
    "data = {\n",
    "    'Имя': ['Иван', 'Петр', 'Олег', 'Алина', 'Евгений'],\n",
    "    'Возраст': [30, 35, 40, 32, 28],\n",
    "    'Должность': ['Менеджер', 'Продавец', 'Кассир', 'Программист', 'Бухгалтер'],\n",
    "    'Отдел': ['IT', 'Sales', 'Retail', 'IT', 'Finance'],\n",
    "    'Зарплата': [50000, 45000, 60000, 55000, 52000]\n",
    "}\n",
    "\n",
    "# Создаем DataFrame\n",
    "df = pd.DataFrame(data)"
   ]
  },
  {
   "cell_type": "code",
   "execution_count": 22,
   "id": "cbf0fcb8-be90-4d2b-a405-e2754c278eff",
   "metadata": {},
   "outputs": [
    {
     "name": "stdout",
     "output_type": "stream",
     "text": [
      "        Имя  Возраст      Должность           Отдел  Зарплата  \\\n",
      "0      Иван       30       Менеджер              IT     50000   \n",
      "1      Петр       35       Продавец           Sales     45000   \n",
      "2      Олег       40         Кассир          Retail     60000   \n",
      "3     Алина       32    Программист              IT     55000   \n",
      "4   Евгений       28      Бухгалтер         Finance     52000   \n",
      "5     Антон       32    Разработчик              IT     85000   \n",
      "6     Антон       32    Разработчик              IT     85000   \n",
      "7     Антон       32    Разработчик              IT     85000   \n",
      "8    Максим       33        Инженер     Engineering     70000   \n",
      "9  Светлана       29  Администратор  Administration     58000   \n",
      "\n",
      "  Категория зарплаты  \n",
      "0             Низкая  \n",
      "1             Низкая  \n",
      "2            Средняя  \n",
      "3             Низкая  \n",
      "4             Низкая  \n",
      "5            Средняя  \n",
      "6            Средняя  \n",
      "7            Средняя  \n",
      "8            Средняя  \n",
      "9             Низкая  \n"
     ]
    }
   ],
   "source": [
    "def salary_category(salary):\n",
    "    if salary < 60000:\n",
    "        return \"Низкая\"\n",
    "    elif 60000 <= salary < 100000:\n",
    "        return \"Средняя\"\n",
    "    else:\n",
    "        return \"Высокая\"\n",
    "\n",
    "# Добавляем нового сотрудника\n",
    "df.loc[len(df)] = [\"Антон\", 32, \"Разработчик\", \"IT\", 85000, None]\n",
    "\n",
    "# Перерассчитываем весь столбец \"Категория зарплаты\"\n",
    "df['Категория зарплаты'] = df['Зарплата'].apply(salary_category)\n",
    "\n",
    "new_employees = pd.DataFrame({\n",
    "    'Имя': ['Максим', 'Светлана'],\n",
    "    'Возраст': [33, 29],\n",
    "    'Должность': ['Инженер', 'Администратор'],\n",
    "    'Отдел': ['Engineering', 'Administration'],\n",
    "    'Зарплата': [70000, 58000]\n",
    "})\n",
    "\n",
    "# Объединяем основной DataFrame с новым DataFrame\n",
    "df = pd.concat([df, new_employees], ignore_index=True)\n",
    "\n",
    "# Обновляем категорию зарплаты\n",
    "df['Категория зарплаты'] = df['Зарплата'].apply(salary_category)\n",
    "\n",
    "print(df)"
   ]
  },
  {
   "cell_type": "markdown",
   "id": "68221511-f390-4b97-a6df-d6bb084cb7af",
   "metadata": {},
   "source": [
    "5. Удаление строк и столбцов"
   ]
  },
  {
   "cell_type": "code",
   "execution_count": 25,
   "id": "6d4091cd-a5aa-411a-9e47-ea821125da1c",
   "metadata": {},
   "outputs": [
    {
     "name": "stdout",
     "output_type": "stream",
     "text": [
      "         Имя     Должность  Зарплата\n",
      "0       Иван      Менеджер     50000\n",
      "1       Петр      Директор     70000\n",
      "2     Михаил  Руководитель     60000\n",
      "3      Елена    Специалист     55000\n",
      "4  Александр   Разработчик     65000\n",
      "6   Виктория         Юрист     58000\n",
      "7    Алексей    Архитектор     75000\n"
     ]
    }
   ],
   "source": [
    "import pandas as pd\n",
    "\n",
    "data = {\n",
    "    'ID': [1, 2, 3, 4, 5, 6, 7, 8, 9, 10],\n",
    "    'Имя': ['Иван', 'Петр', 'Михаил', 'Елена', 'Александр', 'Дмитрий', 'Виктория', 'Алексей', 'Алёна', 'Артем'],\n",
    "    'Должность': ['Менеджер', 'Директор', 'Руководитель', 'Специалист', 'Разработчик', 'Аналитик', 'Юрист', 'Архитектор', 'Графический дизайнер', 'Ассистент'],\n",
    "    'Отдел': ['IT', 'Management', 'HR', 'IT', 'Development', 'Analytics', 'Legal', 'Architecture', 'Design', 'Support'],\n",
    "    'Зарплата': [50000, 70000, 60000, 55000, 65000, 62000, 58000, 75000, 52000, 45000],\n",
    "    'Стаж работы': [5, 10, 3, 4, 6, 2, 8, 7, 1, 12],\n",
    "    'Категория зарплаты': ['Средняя', 'Высокая', 'Средняя', 'Средняя', 'Средняя', 'Средняя', 'Средняя', 'Высокая', 'Низкая', 'Низкая']\n",
    "}\n",
    "\n",
    "# Создаем DataFrame\n",
    "df = pd.DataFrame(data)\n",
    "\n",
    "# 1. Удаляем столбец \"Категория зарплаты\"\n",
    "df.drop(columns=['Категория зарплаты'], inplace=True)\n",
    "\n",
    "# 2. Удаляем строку с ID = 10\n",
    "df = df.drop(df[df['ID'] == 10].index)\n",
    "\n",
    "# 3. Удаляем строки, где стаж работы меньше 3 лет\n",
    "df = df[df['Стаж работы'] >= 3]\n",
    "\n",
    "# 4. Оставляем только столбцы \"Имя\", \"Должность\", \"Зарплата\"\n",
    "df = df[['Имя', 'Должность', 'Зарплата']]\n",
    "\n",
    "# Окончательный DataFrame\n",
    "print(df)"
   ]
  },
  {
   "cell_type": "markdown",
   "id": "c9de2baa-275a-460e-980b-2f30645a5a21",
   "metadata": {},
   "source": [
    "6. Фильтрация данных ( query , isin , between "
   ]
  },
  {
   "cell_type": "code",
   "execution_count": 26,
   "id": "def09726-a21b-4e15-bc06-9ddeaeec395d",
   "metadata": {},
   "outputs": [
    {
     "name": "stdout",
     "output_type": "stream",
     "text": [
      "Исходный DataFrame:\n",
      "  Имя клиента            Город  Баланс на счете Кредитная история\n",
      "0       Игорь           Москва           120000           Хорошая\n",
      "1        Анна  Санкт-Петербург           200000           Хорошая\n",
      "2       Семён   Ростов-на-Дону            80000            Плохая\n",
      "3       Дарья           Москва           150000           Хорошая\n",
      "4    Владимир           Самара           180000           Средняя\n",
      "5   Екатерина  Санкт-Петербург           100000           Хорошая\n",
      "6      Кирилл           Казань           250000           Хорошая\n",
      "7      Галина           Москва            90000            Плохая\n",
      "\n",
      "Клиенты из Москвы или Санкт-Петербурга:\n",
      "  Имя клиента            Город  Баланс на счете Кредитная история\n",
      "0       Игорь           Москва           120000           Хорошая\n",
      "1        Анна  Санкт-Петербург           200000           Хорошая\n",
      "3       Дарья           Москва           150000           Хорошая\n",
      "5   Екатерина  Санкт-Петербург           100000           Хорошая\n",
      "7      Галина           Москва            90000            Плохая\n",
      "\n",
      "Клиенты с балансом от 100000 до 250000:\n",
      "  Имя клиента            Город  Баланс на счете Кредитная история\n",
      "0       Игорь           Москва           120000           Хорошая\n",
      "1        Анна  Санкт-Петербург           200000           Хорошая\n",
      "3       Дарья           Москва           150000           Хорошая\n",
      "4    Владимир           Самара           180000           Средняя\n",
      "5   Екатерина  Санкт-Петербург           100000           Хорошая\n",
      "6      Кирилл           Казань           250000           Хорошая\n",
      "\n",
      "Клиенты с хорошей кредитной историей и балансом > 150000:\n",
      "  Имя клиента            Город  Баланс на счете Кредитная история\n",
      "1        Анна  Санкт-Петербург           200000           Хорошая\n",
      "6      Кирилл           Казань           250000           Хорошая\n"
     ]
    }
   ],
   "source": [
    "import pandas as pd\n",
    "\n",
    "# Пример таблицы 2\n",
    "data = {\n",
    "    'Имя клиента': ['Игорь', 'Анна', 'Семён', 'Дарья', 'Владимир', 'Екатерина', 'Кирилл', 'Галина'],\n",
    "    'Город': ['Москва', 'Санкт-Петербург', 'Ростов-на-Дону', 'Москва', 'Самара', 'Санкт-Петербург', 'Казань', 'Москва'],\n",
    "    'Баланс на счете': [120000, 200000, 80000, 150000, 180000, 100000, 250000, 90000],\n",
    "    'Кредитная история': ['Хорошая', 'Хорошая', 'Плохая', 'Хорошая', 'Средняя', 'Хорошая', 'Хорошая', 'Плохая']\n",
    "}\n",
    "\n",
    "# Создаем DataFrame\n",
    "df = pd.DataFrame(data)\n",
    "\n",
    "print(\"Исходный DataFrame:\")\n",
    "print(df)\n",
    "\n",
    "# Задача 1: Выбор клиентов из Москвы или Санкт-Петербурга\n",
    "clients_in_cities = df[df['Город'].isin(['Москва', 'Санкт-Петербург'])]\n",
    "\n",
    "print(\"\\nКлиенты из Москвы или Санкт-Петербурга:\")\n",
    "print(clients_in_cities)\n",
    "\n",
    "# Задача 2: Выбор клиентов с балансом от 100000 до 250000\n",
    "balance_between_clients = df[df['Баланс на счете'].between(100000, 250000)]\n",
    "\n",
    "print(\"\\nКлиенты с балансом от 100000 до 250000:\")\n",
    "print(balance_between_clients)\n",
    "\n",
    "# Задача 3: Выбор клиентов с хорошей кредитной историей и балансом > 150000\n",
    "good_credit_and_balance = df.query(\"`Кредитная история` == 'Хорошая' and `Баланс на счете` > 150000\")\n",
    "\n",
    "print(\"\\nКлиенты с хорошей кредитной историей и балансом > 150000:\")\n",
    "print(good_credit_and_balance)"
   ]
  },
  {
   "cell_type": "markdown",
   "id": "ccb34e1d-9733-4a4a-b16e-1b90138ec294",
   "metadata": {},
   "source": [
    "7. Подсчет значений ( count , value_counts , nunique )"
   ]
  },
  {
   "cell_type": "code",
   "execution_count": 27,
   "id": "09b1ed73-de25-492b-829f-f09c02369687",
   "metadata": {},
   "outputs": [
    {
     "name": "stdout",
     "output_type": "stream",
     "text": [
      "Исходный DataFrame:\n",
      "  Имя клиента            Город  Возраст  Баланс на счете\n",
      "0       Игорь           Москва       30           120000\n",
      "1        Анна  Санкт-Петербург       35           200000\n",
      "2       Семён   Ростов-на-Дону       40            80000\n",
      "3       Дарья           Москва       32           150000\n",
      "4    Владимир           Самара       28           180000\n",
      "5   Екатерина  Санкт-Петербург       33           100000\n",
      "6      Кирилл           Казань       45           250000\n",
      "7      Галина           Москва       30            90000\n",
      "\n",
      "Количество непустых значений в каждом столбце:\n",
      "Имя клиента        8\n",
      "Город              8\n",
      "Возраст            8\n",
      "Баланс на счете    8\n",
      "dtype: int64\n",
      "\n",
      "Частота встречаемости городов:\n",
      "Город\n",
      "Москва             3\n",
      "Санкт-Петербург    2\n",
      "Ростов-на-Дону     1\n",
      "Самара             1\n",
      "Казань             1\n",
      "Name: count, dtype: int64\n",
      "\n",
      "Количество уникальных значений в каждом столбце:\n",
      "Имя клиента        8\n",
      "Город              5\n",
      "Возраст            7\n",
      "Баланс на счете    8\n",
      "dtype: int64\n"
     ]
    }
   ],
   "source": [
    "import pandas as pd\n",
    "\n",
    "# Пример таблицы 2\n",
    "data = {\n",
    "    'Имя клиента': ['Игорь', 'Анна', 'Семён', 'Дарья', 'Владимир', 'Екатерина', 'Кирилл', 'Галина'],\n",
    "    'Город': ['Москва', 'Санкт-Петербург', 'Ростов-на-Дону', 'Москва', 'Самара', 'Санкт-Петербург', 'Казань', 'Москва'],\n",
    "    'Возраст': [30, 35, 40, 32, 28, 33, 45, 30],\n",
    "    'Баланс на счете': [120000, 200000, 80000, 150000, 180000, 100000, 250000, 90000]\n",
    "}\n",
    "\n",
    "# Создаем DataFrame\n",
    "df = pd.DataFrame(data)\n",
    "\n",
    "print(\"Исходный DataFrame:\")\n",
    "print(df)\n",
    "\n",
    "# Этап 1: Количество непустых значений в каждом столбце\n",
    "non_empty_values_count = df.count()\n",
    "\n",
    "print(\"\\nКоличество непустых значений в каждом столбце:\")\n",
    "print(non_empty_values_count)\n",
    "\n",
    "# Этап 2: Частота встречаемости городов\n",
    "city_value_counts = df['Город'].value_counts()\n",
    "\n",
    "print(\"\\nЧастота встречаемости городов:\")\n",
    "print(city_value_counts)\n",
    "\n",
    "# Этап 3: Количество уникальных значений в каждом столбце\n",
    "unique_values_count = df.nunique()\n",
    "\n",
    "print(\"\\nКоличество уникальных значений в каждом столбце:\")\n",
    "print(unique_values_count)"
   ]
  },
  {
   "cell_type": "markdown",
   "id": "8bdbda15-889a-48e2-b06c-cb03fce11cf4",
   "metadata": {},
   "source": [
    "8. Обнаружение пропусков ( isna , notna )"
   ]
  },
  {
   "cell_type": "code",
   "execution_count": 28,
   "id": "173ff57c-acc3-43ab-b147-047a69380cb0",
   "metadata": {},
   "outputs": [
    {
     "name": "stdout",
     "output_type": "stream",
     "text": [
      "Количество NaN в каждом столбце:\n",
      " Имя         0\n",
      "Возраст     1\n",
      "Отдел       1\n",
      "Зарплата    1\n",
      "dtype: int64\n",
      "\n",
      "Количество заполненных значений в каждом столбце:\n",
      " Имя         5\n",
      "Возраст     4\n",
      "Отдел       4\n",
      "Зарплата    4\n",
      "dtype: int64\n",
      "\n",
      "Строки без пропущенных значений:\n",
      "        Имя  Возраст    Отдел  Зарплата\n",
      "0     Иван     30.0       IT   50000.0\n",
      "3    Елена     35.0    Sales   55000.0\n",
      "4  Василий     28.0  Finance   45000.0\n"
     ]
    }
   ],
   "source": [
    "import pandas as pd\n",
    "import numpy as np\n",
    "\n",
    "# Пример таблицы 3 с NaN-значениями\n",
    "data = {\n",
    "    'Имя': ['Иван', 'Петр', 'Олег', 'Елена', 'Василий'],\n",
    "    'Возраст': [30, np.nan, 40, 35, 28],\n",
    "    'Отдел': ['IT', 'HR', np.nan, 'Sales', 'Finance'],\n",
    "    'Зарплата': [50000, 60000, np.nan, 55000, 45000]\n",
    "}\n",
    "\n",
    "# Создаем DataFrame\n",
    "df = pd.DataFrame(data)\n",
    "\n",
    "# 1. Подсчет количества NaN в каждом столбце\n",
    "nan_counts = df.isna().sum()\n",
    "\n",
    "# 2. Подсчет количества заполненных значений в каждом столбце\n",
    "filled_counts = df.notna().sum()\n",
    "\n",
    "# 3. Оставляем только строки без пропущенных значений\n",
    "no_nan_rows = df.dropna()\n",
    "\n",
    "# Вывод результатов\n",
    "print(\"Количество NaN в каждом столбце:\\n\", nan_counts)\n",
    "print(\"\\nКоличество заполненных значений в каждом столбце:\\n\", filled_counts)\n",
    "print(\"\\nСтроки без пропущенных значений:\\n\", no_nan_rows)"
   ]
  },
  {
   "cell_type": "markdown",
   "id": "8698207d-aa92-4cca-8915-38c07849e6a3",
   "metadata": {},
   "source": [
    "Индивидуальное задание\n",
    "Вариант 3"
   ]
  },
  {
   "cell_type": "code",
   "execution_count": 29,
   "id": "a44c8eb8-f815-454c-b29b-ef16cd9f6f29",
   "metadata": {},
   "outputs": [
    {
     "name": "stdout",
     "output_type": "stream",
     "text": [
      "\n",
      "Выберите действие:\n",
      "1. Добавить запись о студенте.\n",
      "2. Посмотреть записи.\n",
      "3. Поиск студентов с оценкой 2.\n",
      "4. Выход.\n"
     ]
    },
    {
     "name": "stdin",
     "output_type": "stream",
     "text": [
      "Ваш выбор:  2\n"
     ]
    },
    {
     "name": "stdout",
     "output_type": "stream",
     "text": [
      "Empty DataFrame\n",
      "Columns: [Фамилия и инициалы, Номер группы, Русский язык, Математика, История]\n",
      "Index: []\n",
      "\n",
      "Выберите действие:\n",
      "1. Добавить запись о студенте.\n",
      "2. Посмотреть записи.\n",
      "3. Поиск студентов с оценкой 2.\n",
      "4. Выход.\n"
     ]
    },
    {
     "name": "stdin",
     "output_type": "stream",
     "text": [
      "Ваш выбор:  4\n"
     ]
    },
    {
     "name": "stdout",
     "output_type": "stream",
     "text": [
      "Программа завершена.\n"
     ]
    }
   ],
   "source": [
    "import pandas as pd\n",
    "\n",
    "# Определяем начальную пустую структуру DataFrame\n",
    "columns = ['Фамилия и инициалы', 'Номер группы', 'Русский язык', 'Математика', 'История']\n",
    "students_df = pd.DataFrame(columns=columns)\n",
    "\n",
    "while True:\n",
    "    print(\"\\nВыберите действие:\")\n",
    "    print(\"1. Добавить запись о студенте.\")\n",
    "    print(\"2. Посмотреть записи.\")\n",
    "    print(\"3. Поиск студентов с оценкой 2.\")\n",
    "    print(\"4. Выход.\")\n",
    "    \n",
    "    choice = input(\"Ваш выбор: \")\n",
    "    \n",
    "    if choice == '1':\n",
    "        surname_initial = input(\"Введите фамилию и инициалы студента: \")\n",
    "        group_number = input(\"Введите номер группы: \")\n",
    "        \n",
    "        grades = []\n",
    "        for subject in columns[2:]:\n",
    "            grade = int(input(f\"Введите оценку по {subject}: \"))\n",
    "            grades.append(grade)\n",
    "            \n",
    "        # Добавляем новую строку в DataFrame\n",
    "        students_df = pd.concat([students_df, pd.DataFrame([[surname_initial, group_number] + grades], columns=columns)], ignore_index=True)\n",
    "        print(\"Запись добавлена!\")\n",
    "        \n",
    "    elif choice == '2':\n",
    "        # Сортируем записи по алфавиту по фамилии\n",
    "        sorted_students = students_df.sort_values(by=\"Фамилия и инициалы\")\n",
    "        print(sorted_students)\n",
    "        \n",
    "    elif choice == '3':\n",
    "        # Поиск студентов с оценкой 2\n",
    "        failing_students = students_df[(students_df.iloc[:, 2:] == 2).any(axis=1)]\n",
    "        \n",
    "        if len(failing_students) > 0:\n",
    "            print(\"\\nСтуденты, имеющие хотя бы одну оценку 2:\")\n",
    "            print(failing_students[[\"Фамилия и инициалы\", \"Номер группы\"]])\n",
    "        else:\n",
    "            print(\"\\nНет студентов с оценкой 2.\")\n",
    "            \n",
    "    elif choice == '4':\n",
    "        break\n",
    "    else:\n",
    "        print(\"Некорректный выбор. Повторите ввод.\")\n",
    "\n",
    "print(\"Программа завершена.\")"
   ]
  },
  {
   "cell_type": "code",
   "execution_count": null,
   "id": "daca8236-dfa4-494d-8a0e-0a49ec7dee32",
   "metadata": {},
   "outputs": [],
   "source": []
  }
 ],
 "metadata": {
  "kernelspec": {
   "display_name": "Python [conda env:base] *",
   "language": "python",
   "name": "conda-base-py"
  },
  "language_info": {
   "codemirror_mode": {
    "name": "ipython",
    "version": 3
   },
   "file_extension": ".py",
   "mimetype": "text/x-python",
   "name": "python",
   "nbconvert_exporter": "python",
   "pygments_lexer": "ipython3",
   "version": "3.12.3"
  }
 },
 "nbformat": 4,
 "nbformat_minor": 5
}
